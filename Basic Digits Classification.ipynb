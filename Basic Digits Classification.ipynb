{
 "cells": [
  {
   "cell_type": "markdown",
   "metadata": {},
   "source": [
    "# Basic Digits Classification"
   ]
  },
  {
   "cell_type": "markdown",
   "metadata": {},
   "source": [
    "### Import TensorFlow"
   ]
  },
  {
   "cell_type": "markdown",
   "metadata": {},
   "source": [
    "In TensorFlow 0.12+ you can control logging via the environmental variable called TF_CPP_MIN_LOG_LEVEL; it defaults to 0 (all logs shown) but can be set to one of the following values under the Level column.\n",
    "  \n",
    "  Level | Level for Humans | Level Description                  \n",
    " -------|------------------|------------------------------------ \n",
    "  0     | INFO             | [Default] Print all messages       \n",
    "  1     | WARNING          | Filter out INFO messages           \n",
    "  2     | ERROR            | Filter out INFO & WARNING messages \n",
    "  3     | NONE             | Filter out all messages   "
   ]
  },
  {
   "cell_type": "code",
   "execution_count": 2,
   "metadata": {},
   "outputs": [
    {
     "name": "stdout",
     "output_type": "stream",
     "text": [
      "Using TensorFlow version 2.18.0\n"
     ]
    }
   ],
   "source": [
    "import os\n",
    "os.environ['TF_CPP_MIN_LOG_LEVEL'] = '0'  # or any {'0', '1', '2'}\n",
    "import tensorflow as tf\n",
    "\n",
    "print('Using TensorFlow version', tf.__version__)"
   ]
  },
  {
   "cell_type": "markdown",
   "metadata": {},
   "source": [
    "# The Dataset\n",
    "### Import MNIST"
   ]
  },
  {
   "cell_type": "code",
   "execution_count": 3,
   "metadata": {},
   "outputs": [
    {
     "name": "stdout",
     "output_type": "stream",
     "text": [
      "Downloading data from https://storage.googleapis.com/tensorflow/tf-keras-datasets/mnist.npz\n",
      "\u001b[1m11490434/11490434\u001b[0m \u001b[32m━━━━━━━━━━━━━━━━━━━━\u001b[0m\u001b[37m\u001b[0m \u001b[1m1s\u001b[0m 0us/step\n"
     ]
    }
   ],
   "source": [
    "from tensorflow.keras.datasets import mnist\n",
    "(x_train, y_train), (x_test, y_test) =mnist.load_data()"
   ]
  },
  {
   "cell_type": "markdown",
   "metadata": {},
   "source": [
    "### Shapes of Imported Arrays"
   ]
  },
  {
   "cell_type": "code",
   "execution_count": 4,
   "metadata": {},
   "outputs": [
    {
     "name": "stdout",
     "output_type": "stream",
     "text": [
      "x train shape:  (60000, 28, 28)\n",
      "y train shape:  (60000,)\n",
      "x test shape:  (10000, 28, 28)\n",
      "y test shape:  (10000,)\n"
     ]
    }
   ],
   "source": [
    "#x_train & x_test are numpy areas\n",
    "print(\"x train shape: \", x_train.shape)\n",
    "print(\"y train shape: \", y_train.shape)\n",
    "\n",
    "print(\"x test shape: \", x_test.shape)\n",
    "print(\"y test shape: \", y_test.shape)\n",
    "\n",
    "# example on how to read x train shape:  (60000, 28, 28) =>\n",
    "# 60000 => Number of examples in the area\n",
    "# 28, 28 => each example has 28x28px dimensions\n",
    "# example on how to read y train shape:  (60000,)\n",
    "# 6000 => Labels per class"
   ]
  },
  {
   "cell_type": "markdown",
   "metadata": {},
   "source": [
    "### Plot an Image Example"
   ]
  },
  {
   "cell_type": "code",
   "execution_count": 6,
   "metadata": {},
   "outputs": [
    {
     "data": {
      "image/png": "[encoded data removed]",
      "text/plain": [
       "<Figure size 640x480 with 1 Axes>"
      ]
     },
     "metadata": {},
     "output_type": "display_data"
    }
   ],
   "source": [
    "from matplotlib import pyplot as plt\n",
    "%matplotlib inline \n",
    "#ensure that the images are shown in the notebook\n",
    "\n",
    "plt.imshow(x_train[400], cmap=\"binary\")\n",
    "plt.show()"
   ]
  },
  {
   "cell_type": "markdown",
   "metadata": {},
   "source": [
    "### Display Labels"
   ]
  },
  {
   "cell_type": "code",
   "execution_count": 7,
   "metadata": {},
   "outputs": [
    {
     "data": {
      "text/plain": [
       "np.uint8(2)"
      ]
     },
     "execution_count": 7,
     "metadata": {},
     "output_type": "execute_result"
    }
   ],
   "source": [
    "y_train[400]"
   ]
  },
  {
   "cell_type": "code",
   "execution_count": 8,
   "metadata": {},
   "outputs": [
    {
     "name": "stdout",
     "output_type": "stream",
     "text": [
      "{np.uint8(0), np.uint8(1), np.uint8(2), np.uint8(3), np.uint8(4), np.uint8(5), np.uint8(6), np.uint8(7), np.uint8(8), np.uint8(9)}\n"
     ]
    }
   ],
   "source": [
    "print(set(y_train)) #writes out the unique values present in the dataset"
   ]
  },
  {
   "cell_type": "markdown",
   "metadata": {},
   "source": [
    "# One Hot Encoding\n",
    "After this encoding, every label will be converted to a list with 10 elements and the element at index to the corresponding class will be set to 1, rest will be set to 0:\n",
    "\n",
    "| original label | one-hot encoded label |\n",
    "|------|------|\n",
    "| 5 | [0, 0, 0, 0, 0, 1, 0, 0, 0, 0] |\n",
    "| 7 | [0, 0, 0, 0, 0, 0, 0, 1, 0, 0] |\n",
    "| 1 | [0, 1, 0, 0, 0, 0, 0, 0, 0, 0] |\n",
    "\n",
    "### Encoding Labels"
   ]
  },
  {
   "cell_type": "code",
   "execution_count": 9,
   "metadata": {},
   "outputs": [],
   "source": [
    "from tensorflow.keras.utils import to_categorical\n",
    "\n",
    "y_train_encoded = to_categorical(y_train) #hot encoding done through tensorflow\n",
    "y_test_encoded = to_categorical(y_test)"
   ]
  },
  {
   "cell_type": "markdown",
   "metadata": {},
   "source": [
    "### Validated Shapes"
   ]
  },
  {
   "cell_type": "code",
   "execution_count": 10,
   "metadata": {},
   "outputs": [
    {
     "name": "stdout",
     "output_type": "stream",
     "text": [
      "y_train_encoded shape:  (60000, 10)\n",
      "y_test_encoded shape:  (10000, 10)\n"
     ]
    }
   ],
   "source": [
    "print(\"y_train_encoded shape: \", y_train_encoded.shape)\n",
    "print(\"y_test_encoded shape: \", y_test_encoded.shape)\n",
    "\n",
    "#y_train_encoded shape:  (60000, 10) => 60000 examples with a 10 dimensional vector\n",
    "#this allows the neural network to understand which \"switch\" is on out of the 10 dimensions"
   ]
  },
  {
   "cell_type": "markdown",
   "metadata": {},
   "source": [
    "### Display Encoded Labels"
   ]
  },
  {
   "cell_type": "code",
   "execution_count": 11,
   "metadata": {},
   "outputs": [
    {
     "data": {
      "text/plain": [
       "array([0., 0., 1., 0., 0., 0., 0., 0., 0., 0.])"
      ]
     },
     "execution_count": 11,
     "metadata": {},
     "output_type": "execute_result"
    }
   ],
   "source": [
    "y_train_encoded[400] #=> This used to be 2, in hot encoding is a array with 10 elements, \n",
    "# where only number two (so array[3], since we start from 0) is encoded to 1"
   ]
  },
  {
   "cell_type": "markdown",
   "metadata": {},
   "source": [
    "# Neural Networks\n",
    "\n",
    "### Linear Equations\n",
    "\n",
    "![Single Neuron](imgs/1_2.png)\n",
    "\n",
    "The above graph simply represents the equation:\n",
    "\n",
    "\\begin{equation}\n",
    "y = w1 * x1 + w2 * x2 + w3 * x3 + b\n",
    "\\end{equation}\n",
    "\n",
    "Where the `w1, w2, w3` are called the **weights** and `b` is an intercept term called **bias**. The equation can also be *vectorised* like this:\n",
    "\n",
    "\\begin{equation}\n",
    "y = W . X + b\n",
    "\\end{equation}\n",
    "\n",
    "Where `X = [x1, x2, x3]` and `W = [w1, w2, w3].T`. The .T means *transpose*. This is because we want the dot product to give us the result we want i.e. `w1 * x1 + w2 * x2 + w3 * x3`. This gives us the vectorised version of our linear equation.\n",
    "\n",
    "A simple, linear approach to solving hand-written image classification problem - could it work?\n",
    "\n",
    "![Single Neuron with 784 features](imgs/1_3.png)\n",
    "\n",
    "### Neural Networks\n",
    "\n",
    "![Neural Network with 2 hidden layers](imgs/1_4.png)\n",
    "\n",
    "This type of computational graph is a **Neural Network**, they can help solving more complex problems by *cascading the linear functions one after the other*. The only difference from the standard linear equation above is that an **Activation** is *applied to each node in addition to the linear output*.\n",
    "The **purpose of an Activation function** is to find *non-linear patterns in the data*, which enables the network to learn complex patterns in data."
   ]
  },
  {
   "cell_type": "markdown",
   "metadata": {},
   "source": [
    "# Preprocessing the Examples\n",
    "\n",
    "### Unrolling N-dimensional Arrays to Vectors"
   ]
  },
  {
   "cell_type": "code",
   "execution_count": 12,
   "metadata": {},
   "outputs": [
    {
     "name": "stdout",
     "output_type": "stream",
     "text": [
      "x_train_reshaped:  (60000, 784)\n",
      "x_test_reshaped:  (10000, 784)\n"
     ]
    }
   ],
   "source": [
    "# We need to change the arrrays to vectors so that we have the input layer\n",
    "import numpy as np\n",
    "\n",
    "x_train_reshaped = np.reshape(x_train, (60000, 784)) \n",
    "# 60000 is the number of samples we have in the training model, 784 is the \"unrolled\" array value from 28 x 28 (width and height of the images)\n",
    "x_test_reshaped = np.reshape(x_test, (10000, 784))\n",
    "\n",
    "print(\"x_train_reshaped: \", x_train_reshaped.shape)\n",
    "print(\"x_test_reshaped: \", x_test_reshaped.shape)"
   ]
  },
  {
   "cell_type": "markdown",
   "metadata": {},
   "source": [
    "### Display Pixel Values"
   ]
  },
  {
   "cell_type": "code",
   "execution_count": 13,
   "metadata": {},
   "outputs": [
    {
     "name": "stdout",
     "output_type": "stream",
     "text": [
      "{np.uint8(0), np.uint8(130), np.uint8(3), np.uint8(6), np.uint8(140), np.uint8(13), np.uint8(141), np.uint8(143), np.uint8(15), np.uint8(145), np.uint8(146), np.uint8(25), np.uint8(154), np.uint8(28), np.uint8(29), np.uint8(163), np.uint8(37), np.uint8(38), np.uint8(167), np.uint8(168), np.uint8(169), np.uint8(43), np.uint8(176), np.uint8(177), np.uint8(50), np.uint8(178), np.uint8(180), np.uint8(55), np.uint8(56), np.uint8(57), np.uint8(187), np.uint8(191), np.uint8(63), np.uint8(65), np.uint8(66), np.uint8(196), np.uint8(197), np.uint8(198), np.uint8(199), np.uint8(72), np.uint8(75), np.uint8(205), np.uint8(207), np.uint8(79), np.uint8(208), np.uint8(84), np.uint8(85), np.uint8(214), np.uint8(215), np.uint8(87), np.uint8(219), np.uint8(220), np.uint8(222), np.uint8(223), np.uint8(225), np.uint8(100), np.uint8(101), np.uint8(234), np.uint8(106), np.uint8(239), np.uint8(112), np.uint8(113), np.uint8(243), np.uint8(245), np.uint8(246), np.uint8(249), np.uint8(252), np.uint8(253), np.uint8(255)}\n"
     ]
    }
   ],
   "source": [
    "print(set(x_train_reshaped[400])) #All unique pixel values from 0 - 255"
   ]
  },
  {
   "cell_type": "markdown",
   "metadata": {},
   "source": [
    "### Data Normalization\n",
    "\n",
    "Normalization allows the neural network *to learn the weights and biases* more quickly and efficiently. \n",
    "The **mean and standard deviation** is calculated to normalize the dataset."
   ]
  },
  {
   "cell_type": "code",
   "execution_count": 14,
   "metadata": {},
   "outputs": [],
   "source": [
    "x_mean = np.mean(x_train_reshaped)\n",
    "x_std = np.std(x_train_reshaped) #std => standard deviation\n",
    "\n",
    "epsilon = 1e-10 #very small value, it is used to stabilize the small isntabilities that standard deviation can create\n",
    "\n",
    "x_train_norm = (x_train_reshaped - x_mean) / (x_std + epsilon) #example of broadcasting, where x_mean is going to be subtracted for each value of x_train_reshaped\n",
    "x_test_norm = (x_test_reshaped - x_mean) / (x_std + epsilon)  \n",
    "#Standard practice to do postprocessing of the test set with the mean and std of the dataset, to avoid introducing unnecessary biases\n",
    "\n"
   ]
  },
  {
   "cell_type": "markdown",
   "metadata": {},
   "source": [
    "### Display Normalized Pixel Values"
   ]
  },
  {
   "cell_type": "code",
   "execution_count": 15,
   "metadata": {},
   "outputs": [
    {
     "name": "stdout",
     "output_type": "stream",
     "text": [
      "{np.float64(-0.4240738943910262), np.float64(1.0141800198390718), np.float64(2.210603629906587), np.float64(2.7960875241949457), np.float64(2.8215433456857437), np.float64(1.396017342201045), np.float64(2.3633385588513764), np.float64(2.7833596134495466), np.float64(2.5542572200323628), np.float64(1.4342010744372422), np.float64(2.0069570579802014), np.float64(2.6178967737593584), np.float64(2.070596611707197), np.float64(2.706992148977152), np.float64(2.4015222910875735), np.float64(1.7142151108360224), np.float64(2.668808416740955), np.float64(2.4142502018329726), np.float64(2.083324522452596), np.float64(2.096052433197995), np.float64(2.3760664695967755), np.float64(2.694264238231753), np.float64(0.4923356792777089), np.float64(0.059586713934139515), np.float64(0.8487171801488835), np.float64(1.816038396799215), np.float64(1.8287663075446141), np.float64(0.8614450908942827), np.float64(0.5305194115139061), np.float64(2.1087803439433945), np.float64(2.7451758812133495), np.float64(2.439706023323771), np.float64(-0.10587612575604877), np.float64(1.8669500397808114), np.float64(1.5360243604004349), np.float64(1.8414942182900134), np.float64(0.12322626766113501), np.float64(-0.38589016215482896), np.float64(0.9250846446212782), np.float64(0.5814310544955026), np.float64(0.2123216428789287), np.float64(-0.05496448277445237), np.float64(1.7269430215814214), np.float64(-0.23315523321003975), np.float64(1.2305545025108566), np.float64(0.2759611966059242), np.float64(2.185147808415789), np.float64(2.2233315406519862), np.float64(0.2886891073513233), np.float64(0.3014170180967224), np.float64(-0.34770642991863165), np.float64(0.6450706082224981), np.float64(0.4159682148053143), np.float64(1.421473163691843), np.float64(-0.06769239351985147), np.float64(0.6577985189678972), np.float64(1.6505755571090268), np.float64(1.9560454149986053), np.float64(1.0014521090936728), np.float64(0.6832543404586954), np.float64(2.299699005124381), np.float64(2.31242691586978), np.float64(0.04685880318874042), np.float64(0.377784482569117), np.float64(-0.25861105470083795), np.float64(1.7014872000906232), np.float64(1.3578336099648476), np.float64(1.3705615207102466), np.float64(0.4032403040599152)}\n"
     ]
    }
   ],
   "source": [
    "print(set(x_train_norm[400]))"
   ]
  },
  {
   "cell_type": "markdown",
   "metadata": {},
   "source": [
    "# Creating a Model in Keras\n",
    "\n",
    "In Keras, using a **sequential class** and **adding some layers** to it is enough to create a model.\n",
    "All the nodes of the layers used in this project are called **dense layers**. which means that *all nodes of a layer are connected to all the nodes of the preceeding layer.*"
   ]
  },
  {
   "cell_type": "code",
   "execution_count": 16,
   "metadata": {},
   "outputs": [
    {
     "name": "stderr",
     "output_type": "stream",
     "text": [
      "/home/rosix/miniforge3/lib/python3.12/site-packages/keras/src/layers/core/dense.py:87: UserWarning: Do not pass an `input_shape`/`input_dim` argument to a layer. When using Sequential models, prefer using an `Input(shape)` object as the first layer in the model instead.\n",
      "  super().__init__(activity_regularizer=activity_regularizer, **kwargs)\n",
      "I0000 00:00:1740273114.644984    3613 gpu_device.cc:2022] Created device /job:localhost/replica:0/task:0/device:GPU:0 with 9517 MB memory:  -> device: 0, name: NVIDIA GeForce RTX 4070 SUPER, pci bus id: 0000:01:00.0, compute capability: 8.9\n"
     ]
    }
   ],
   "source": [
    "from tensorflow.keras.models import Sequential\n",
    "from tensorflow.keras.layers import Dense\n",
    "\n",
    "'''\n",
    "What is the code doing\n",
    "- Instantiate a sequential model\n",
    "- Pass on a list of layers that we want in the model, in the order we want them in\n",
    "- In this case => 2 hidden layers with 128 nodes each and 1 output layer with 10 nodes\n",
    "\n",
    "The more nodes in a model, the more complex functions will the model be able to understand\n",
    "however, it will require more computation power\n",
    "'''\n",
    "model = Sequential([\n",
    "    Dense(128, activation = \"relu\", input_shape = (784,)),\n",
    "    Dense(128, activation = \"relu\"),\n",
    "    Dense(10, activation = \"softmax\")\n",
    "])\n"
   ]
  },
  {
   "cell_type": "markdown",
   "metadata": {},
   "source": [
    "### Activation Functions\n",
    "\n",
    "The first step in the node is the linear sum of the inputs:\n",
    "\\begin{equation}\n",
    "Z = W . X + b\n",
    "\\end{equation}\n",
    "\n",
    "The second step in the node is the activation function output:\n",
    "\n",
    "\\begin{equation}\n",
    "A = f(Z)\n",
    "\\end{equation}\n",
    "\n",
    "Graphical representation of a node where the two operations are performed:\n",
    "\n",
    "![ReLU](imgs/1_5.png)\n",
    "\n",
    "### ReLU Activation Function\n",
    "ReLU stands for **Rectified Linear Unit (ReLU)** and it is a **a piecewise linear function that outputs the input directly if it is positive; otherwise, it outputs zero**.\n",
    "In simpler terms, ReLU allows positive values to pass through unchanged while setting all negative values to zero. \n",
    "\n",
    "The ReLU function can be described mathematically as follows:\n",
    "\n",
    "\\begin{equation}\n",
    "f(x) = max(0,x)\n",
    "\\end{equation}\n",
    "\n",
    "Where:\n",
    "\n",
    "- x is the input to the neuron.\n",
    "- The function returns x if x is greater than 0.\n",
    "- If x is less than or equal to 0, the function returns 0.\n",
    "\n",
    "### Softmax Activation Function\n",
    "Softmax is an activation function commonly used in neural networks for **multi-classification problems**.\n",
    "It converts *a vector of raw prediction scores (often called logits) from the neural network into probabilities*. These probabilities are distributed across different classes such that their sum equals 1.\n",
    "Softmax helps in transforming output values into a format that can be interpreted as probabilities.\n",
    "\n",
    "\\begin{equation}\n",
    "\\ Softmax(z_i) = \\frac{e^{z_{i}}}{\\sum_{j=1}^K e^{z_{j}}} \\ \\\n",
    "\\end{equation}\n",
    "\n",
    "Where:\n",
    "- $z_i$ is the logit (the output of the previous layer in the network) for the $i^{th}$ class.\n",
    "- $K$ is the number of classes\n",
    "- $e^{z_{i}}$ represents the exponential of the logit\n",
    "- $\\sum_{j=1}^K e^{z_{j}}$  is the sum of exponentials across all classes.\n",
    "\n",
    "\n",
    "\n",
    "### Compiling the Model\n",
    "\n",
    "In addition to defining the architecture of the model, optimizing the weights and biases is a necessary step to ensure accuracy.\n",
    "To do that, the model needs to be compiled, the operation requires:\n",
    "- The **optimization algorythm**\n",
    "- The **loss function**\n",
    "- The **metrics**, in this case accuracy "
   ]
  },
  {
   "cell_type": "code",
   "execution_count": 17,
   "metadata": {},
   "outputs": [
    {
     "data": {
      "text/html": [
       "<pre style=\"white-space:pre;overflow-x:auto;line-height:normal;font-family:Menlo,'DejaVu Sans Mono',consolas,'Courier New',monospace\"><span style=\"font-weight: bold\">Model: \"sequential\"</span>\n",
       "</pre>\n"
      ],
      "text/plain": [
       "\u001b[1mModel: \"sequential\"\u001b[0m\n"
      ]
     },
     "metadata": {},
     "output_type": "display_data"
    },
    {
     "data": {
      "text/html": [
       "<pre style=\"white-space:pre;overflow-x:auto;line-height:normal;font-family:Menlo,'DejaVu Sans Mono',consolas,'Courier New',monospace\">┏━━━━━━━━━━━━━━━━━━━━━━━━━━━━━━━━━┳━━━━━━━━━━━━━━━━━━━━━━━━┳━━━━━━━━━━━━━━━┓\n",
       "┃<span style=\"font-weight: bold\"> Layer (type)                    </span>┃<span style=\"font-weight: bold\"> Output Shape           </span>┃<span style=\"font-weight: bold\">       Param # </span>┃\n",
       "┡━━━━━━━━━━━━━━━━━━━━━━━━━━━━━━━━━╇━━━━━━━━━━━━━━━━━━━━━━━━╇━━━━━━━━━━━━━━━┩\n",
       "│ dense (<span style=\"color: #0087ff; text-decoration-color: #0087ff\">Dense</span>)                   │ (<span style=\"color: #00d7ff; text-decoration-color: #00d7ff\">None</span>, <span style=\"color: #00af00; text-decoration-color: #00af00\">128</span>)            │       <span style=\"color: #00af00; text-decoration-color: #00af00\">100,480</span> │\n",
       "├─────────────────────────────────┼────────────────────────┼───────────────┤\n",
       "│ dense_1 (<span style=\"color: #0087ff; text-decoration-color: #0087ff\">Dense</span>)                 │ (<span style=\"color: #00d7ff; text-decoration-color: #00d7ff\">None</span>, <span style=\"color: #00af00; text-decoration-color: #00af00\">128</span>)            │        <span style=\"color: #00af00; text-decoration-color: #00af00\">16,512</span> │\n",
       "├─────────────────────────────────┼────────────────────────┼───────────────┤\n",
       "│ dense_2 (<span style=\"color: #0087ff; text-decoration-color: #0087ff\">Dense</span>)                 │ (<span style=\"color: #00d7ff; text-decoration-color: #00d7ff\">None</span>, <span style=\"color: #00af00; text-decoration-color: #00af00\">10</span>)             │         <span style=\"color: #00af00; text-decoration-color: #00af00\">1,290</span> │\n",
       "└─────────────────────────────────┴────────────────────────┴───────────────┘\n",
       "</pre>\n"
      ],
      "text/plain": [
       "┏━━━━━━━━━━━━━━━━━━━━━━━━━━━━━━━━━┳━━━━━━━━━━━━━━━━━━━━━━━━┳━━━━━━━━━━━━━━━┓\n",
       "┃\u001b[1m \u001b[0m\u001b[1mLayer (type)                   \u001b[0m\u001b[1m \u001b[0m┃\u001b[1m \u001b[0m\u001b[1mOutput Shape          \u001b[0m\u001b[1m \u001b[0m┃\u001b[1m \u001b[0m\u001b[1m      Param #\u001b[0m\u001b[1m \u001b[0m┃\n",
       "┡━━━━━━━━━━━━━━━━━━━━━━━━━━━━━━━━━╇━━━━━━━━━━━━━━━━━━━━━━━━╇━━━━━━━━━━━━━━━┩\n",
       "│ dense (\u001b[38;5;33mDense\u001b[0m)                   │ (\u001b[38;5;45mNone\u001b[0m, \u001b[38;5;34m128\u001b[0m)            │       \u001b[38;5;34m100,480\u001b[0m │\n",
       "├─────────────────────────────────┼────────────────────────┼───────────────┤\n",
       "│ dense_1 (\u001b[38;5;33mDense\u001b[0m)                 │ (\u001b[38;5;45mNone\u001b[0m, \u001b[38;5;34m128\u001b[0m)            │        \u001b[38;5;34m16,512\u001b[0m │\n",
       "├─────────────────────────────────┼────────────────────────┼───────────────┤\n",
       "│ dense_2 (\u001b[38;5;33mDense\u001b[0m)                 │ (\u001b[38;5;45mNone\u001b[0m, \u001b[38;5;34m10\u001b[0m)             │         \u001b[38;5;34m1,290\u001b[0m │\n",
       "└─────────────────────────────────┴────────────────────────┴───────────────┘\n"
      ]
     },
     "metadata": {},
     "output_type": "display_data"
    },
    {
     "data": {
      "text/html": [
       "<pre style=\"white-space:pre;overflow-x:auto;line-height:normal;font-family:Menlo,'DejaVu Sans Mono',consolas,'Courier New',monospace\"><span style=\"font-weight: bold\"> Total params: </span><span style=\"color: #00af00; text-decoration-color: #00af00\">118,282</span> (462.04 KB)\n",
       "</pre>\n"
      ],
      "text/plain": [
       "\u001b[1m Total params: \u001b[0m\u001b[38;5;34m118,282\u001b[0m (462.04 KB)\n"
      ]
     },
     "metadata": {},
     "output_type": "display_data"
    },
    {
     "data": {
      "text/html": [
       "<pre style=\"white-space:pre;overflow-x:auto;line-height:normal;font-family:Menlo,'DejaVu Sans Mono',consolas,'Courier New',monospace\"><span style=\"font-weight: bold\"> Trainable params: </span><span style=\"color: #00af00; text-decoration-color: #00af00\">118,282</span> (462.04 KB)\n",
       "</pre>\n"
      ],
      "text/plain": [
       "\u001b[1m Trainable params: \u001b[0m\u001b[38;5;34m118,282\u001b[0m (462.04 KB)\n"
      ]
     },
     "metadata": {},
     "output_type": "display_data"
    },
    {
     "data": {
      "text/html": [
       "<pre style=\"white-space:pre;overflow-x:auto;line-height:normal;font-family:Menlo,'DejaVu Sans Mono',consolas,'Courier New',monospace\"><span style=\"font-weight: bold\"> Non-trainable params: </span><span style=\"color: #00af00; text-decoration-color: #00af00\">0</span> (0.00 B)\n",
       "</pre>\n"
      ],
      "text/plain": [
       "\u001b[1m Non-trainable params: \u001b[0m\u001b[38;5;34m0\u001b[0m (0.00 B)\n"
      ]
     },
     "metadata": {},
     "output_type": "display_data"
    }
   ],
   "source": [
    "model.compile(\n",
    "    optimizer = \"sgd\", #stochaistic gradiant descent, minizes the loss function\n",
    "    loss = \"categorical_crossentropy\", #function to be minimized\n",
    "    metrics = [\"accuracy\"]\n",
    ")\n",
    "\n",
    "model.summary()"
   ]
  },
  {
   "cell_type": "markdown",
   "metadata": {},
   "source": [
    "# Task 7: Training the Model\n",
    "\n",
    "### Training the Model\n",
    "\n",
    "The model will be trained through three epochs.\n",
    "An epoch in machine learning represents one complete pass through the entire training dataset. It ensures that every data sample is used to update the model’s parameters, optimizing performance over multiple epochs."
   ]
  },
  {
   "cell_type": "code",
   "execution_count": 18,
   "metadata": {},
   "outputs": [
    {
     "name": "stdout",
     "output_type": "stream",
     "text": [
      "Epoch 1/3\n"
     ]
    },
    {
     "name": "stderr",
     "output_type": "stream",
     "text": [
      "WARNING: All log messages before absl::InitializeLog() is called are written to STDERR\n",
      "I0000 00:00:1740273118.783021    3919 service.cc:148] XLA service 0x7fef80015b40 initialized for platform CUDA (this does not guarantee that XLA will be used). Devices:\n",
      "I0000 00:00:1740273118.783081    3919 service.cc:156]   StreamExecutor device (0): NVIDIA GeForce RTX 4070 SUPER, Compute Capability 8.9\n",
      "2025-02-23 01:11:58.791522: I tensorflow/compiler/mlir/tensorflow/utils/dump_mlir_util.cc:268] disabling MLIR crash reproducer, set env var `MLIR_CRASH_REPRODUCER_DIRECTORY` to enable.\n",
      "I0000 00:00:1740273118.813447    3919 cuda_dnn.cc:529] Loaded cuDNN version 90300\n",
      "2025-02-23 01:11:59.130119: I external/local_xla/xla/stream_executor/cuda/cuda_asm_compiler.cc:397] ptxas warning : Registers are spilled to local memory in function 'gemm_fusion_dot_54', 4 bytes spill stores, 4 bytes spill loads\n",
      "\n"
     ]
    },
    {
     "name": "stdout",
     "output_type": "stream",
     "text": [
      "\u001b[1m  91/1875\u001b[0m \u001b[37m━━━━━━━━━━━━━━━━━━━━\u001b[0m \u001b[1m3s\u001b[0m 2ms/step - accuracy: 0.3736 - loss: 1.8887"
     ]
    },
    {
     "name": "stderr",
     "output_type": "stream",
     "text": [
      "I0000 00:00:1740273119.907767    3919 device_compiler.h:188] Compiled cluster using XLA!  This line is logged at most once for the lifetime of the process.\n"
     ]
    },
    {
     "name": "stdout",
     "output_type": "stream",
     "text": [
      "\u001b[1m1875/1875\u001b[0m \u001b[32m━━━━━━━━━━━━━━━━━━━━\u001b[0m\u001b[37m\u001b[0m \u001b[1m5s\u001b[0m 2ms/step - accuracy: 0.8060 - loss: 0.6387\n",
      "Epoch 2/3\n",
      "\u001b[1m1875/1875\u001b[0m \u001b[32m━━━━━━━━━━━━━━━━━━━━\u001b[0m\u001b[37m\u001b[0m \u001b[1m4s\u001b[0m 2ms/step - accuracy: 0.9430 - loss: 0.2012\n",
      "Epoch 3/3\n",
      "\u001b[1m1875/1875\u001b[0m \u001b[32m━━━━━━━━━━━━━━━━━━━━\u001b[0m\u001b[37m\u001b[0m \u001b[1m4s\u001b[0m 2ms/step - accuracy: 0.9572 - loss: 0.1450\n"
     ]
    },
    {
     "data": {
      "text/plain": [
       "<keras.src.callbacks.history.History at 0x7ff0a1a45cd0>"
      ]
     },
     "execution_count": 18,
     "metadata": {},
     "output_type": "execute_result"
    }
   ],
   "source": [
    "model.fit(x_train_norm, y_train_encoded, epochs = 3) #going through the examples with the labels three times"
   ]
  },
  {
   "cell_type": "markdown",
   "metadata": {},
   "source": [
    "### Evaluating the Model\n",
    "\n",
    "This process is to ensure that the machine has actually understood the underlying function and not just memorized all the dataset."
   ]
  },
  {
   "cell_type": "code",
   "execution_count": 19,
   "metadata": {},
   "outputs": [
    {
     "name": "stdout",
     "output_type": "stream",
     "text": [
      "\u001b[1m313/313\u001b[0m \u001b[32m━━━━━━━━━━━━━━━━━━━━\u001b[0m\u001b[37m\u001b[0m \u001b[1m2s\u001b[0m 5ms/step - accuracy: 0.9508 - loss: 0.1613\n",
      "Test set accuracy:  95.8400011062622\n"
     ]
    }
   ],
   "source": [
    "loss, accuracy = model.evaluate(x_test_norm, y_test_encoded) #Does another pass on the model with the test data and then comapares the loss and accuracy with the ones from the training\n",
    "print(\"Test set accuracy: \", accuracy * 100)"
   ]
  },
  {
   "cell_type": "markdown",
   "metadata": {},
   "source": [
    "# Task 8: Predictions\n",
    "\n",
    "### Predictions on Test Set"
   ]
  },
  {
   "cell_type": "code",
   "execution_count": 20,
   "metadata": {},
   "outputs": [
    {
     "name": "stdout",
     "output_type": "stream",
     "text": [
      "\u001b[1m313/313\u001b[0m \u001b[32m━━━━━━━━━━━━━━━━━━━━\u001b[0m\u001b[37m\u001b[0m \u001b[1m1s\u001b[0m 1ms/step\n",
      "Shape of predictions:  (10000, 10)\n"
     ]
    }
   ],
   "source": [
    "preds = model.predict(x_test_norm)\n",
    "print(\"Shape of predictions: \", preds.shape)"
   ]
  },
  {
   "cell_type": "markdown",
   "metadata": {},
   "source": [
    "### Plotting the Results"
   ]
  },
  {
   "cell_type": "code",
   "execution_count": 23,
   "metadata": {},
   "outputs": [
    {
     "data": {
      "image/png": "[encoded data removed]",
      "text/plain": [
       "<Figure size 1200x1200 with 25 Axes>"
      ]
     },
     "metadata": {},
     "output_type": "display_data"
    }
   ],
   "source": [
    "plt.figure(figsize=(12,12))\n",
    "\n",
    "start_idx = 400\n",
    "\n",
    "for i in range(25):\n",
    "    plt.subplot(5, 5, i+1)\n",
    "    plt.grid(False)\n",
    "    plt.xticks([])\n",
    "    plt.yticks([])\n",
    "    \n",
    "    pred = np.argmax(preds[start_idx+i])\n",
    "    groundtruth = y_test[start_idx+i]\n",
    "    \n",
    "    col = \"g\"\n",
    "    if pred != groundtruth:\n",
    "        col = \"r\"\n",
    "    \n",
    "    plt.xlabel(\"idx={}, pred={}, gt={}\" .format(start_idx+i, pred, groundtruth), color= col)\n",
    "    plt.imshow(x_test[start_idx+i], cmap=\"binary\")\n",
    "plt.show()"
   ]
  },
  {
   "cell_type": "code",
   "execution_count": 24,
   "metadata": {},
   "outputs": [
    {
     "data": {
      "image/png": "[encoded data removed]",
      "text/plain": [
       "<Figure size 640x480 with 1 Axes>"
      ]
     },
     "metadata": {},
     "output_type": "display_data"
    }
   ],
   "source": [
    "plt.plot(preds[403])\n",
    "plt.xlabel(\"Soft max probability value\".format())\n",
    "plt.show() #softmax probability values\n"
   ]
  },
  {
   "cell_type": "code",
   "execution_count": null,
   "metadata": {},
   "outputs": [],
   "source": []
  }
 ],
 "metadata": {
  "kernelspec": {
   "display_name": "base",
   "language": "python",
   "name": "python3"
  },
  "language_info": {
   "codemirror_mode": {
    "name": "ipython",
    "version": 3
   },
   "file_extension": ".py",
   "mimetype": "text/x-python",
   "name": "python",
   "nbconvert_exporter": "python",
   "pygments_lexer": "ipython3",
   "version": "3.12.8"
  }
 },
 "nbformat": 4,
 "nbformat_minor": 2
}
